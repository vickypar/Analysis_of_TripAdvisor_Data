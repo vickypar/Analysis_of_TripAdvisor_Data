{
 "cells": [
  {
   "cell_type": "code",
   "execution_count": 1,
   "id": "f4b66185",
   "metadata": {},
   "outputs": [
    {
     "name": "stderr",
     "output_type": "stream",
     "text": [
      "[nltk_data] Downloading package punkt to\n",
      "[nltk_data]     C:\\Users\\vasil\\AppData\\Roaming\\nltk_data...\n",
      "[nltk_data]   Package punkt is already up-to-date!\n",
      "[nltk_data] Downloading package stopwords to\n",
      "[nltk_data]     C:\\Users\\vasil\\AppData\\Roaming\\nltk_data...\n",
      "[nltk_data]   Package stopwords is already up-to-date!\n"
     ]
    }
   ],
   "source": [
    "#Import Libraries\n",
    "import pandas as pd\n",
    "import string\n",
    "import nltk\n",
    "from nltk import word_tokenize\n",
    "from nltk.stem import PorterStemmer\n",
    "from nltk.corpus import stopwords\n",
    "import math\n",
    "import numpy as np\n",
    "import matplotlib.pyplot as plt\n",
    "import seaborn as sns\n",
    "from pandas import Series, DataFrame\n",
    "from matplotlib import rcParams\n",
    "import pandas as pd\n",
    "from collections import Counter\n",
    "from itertools import chain\n",
    "#from wordcloud import WordCloud, STOPWORDS\n",
    "import re\n",
    "import warnings\n",
    "warnings.filterwarnings(\"ignore\")\n",
    "import collections\n",
    "import os\n",
    "from matplotlib import pyplot as plt\n",
    "import matplotlib.colors as mcolors\n",
    "rcParams['figure.figsize'] = 20,12\n",
    "ps = PorterStemmer()\n",
    "nltk.download('punkt')\n",
    "nltk.download('stopwords')\n",
    "stop = stopwords.words('english')"
   ]
  },
  {
   "cell_type": "code",
   "execution_count": 2,
   "id": "10bae3ce",
   "metadata": {},
   "outputs": [],
   "source": [
    "#load the data\n",
    "reviews = pd.read_csv(r\"reviews_all_preprocessed.csv\")\n",
    "stop1 = ['food','good','nice','price','place','servic','restaur','visit','friendli','thessaloniki','order','great','dish','recommend','amaz','one','realli','us','serv','staff','qualiti','’','time', 'tri', 'experi', 'come', 'small', 'local', 'even', 'excel', 'reason', 'atmospher', 'best', 'love', 'enjoy', 'would', 'greek', 'well', 'also', 'fresh', 'back', 'like', 'tast', 'wine', 'definit', 'tabl', 'offer', 'menu', 'salad', 'drink', 'waiter', 'tradit', 'tasti', 'delici', 'day', 'peopl', 'go', 'meal', 'fish', 'dinner', 'eat', 'cook', 'portion', 'look', 'meat', 'citi', 'everyth', 'music', 'locat', 'lunch','town', 'warm', 'year', 'outsid', 'street', 'chicken', 'coffe', 'night', 'perfect', 'much', 'want', 'view', 'got', 'plate', 'littl', 'sea', 'expect', 'owner', 'ok', 'make', 'way', 'next', 'sit', 'wait', 'pizza', 'friend', 'cuisin', 'high', 'lot', 'differ', 'kind', 'noth', 'special', 'choic', 'decor', 'live', 'greec', 'alway', 'center', 'better', 'bread', 'ask', 'help', 'dont', 'get', 'mani', 'top', 'fantast', 'thing', 'say', 'two', 'first', 'didnt', 'busi', 'went', 'came', 'cours', 'though', 'polit', 'find', 'fast', 'end', 'grill', 'take', 'found', 'ever', 'quit', 'euro', 'wonder', 'everi', 'starter', 'bar', 'area', 'main', '2', 'full', 'hous', 'highli', 'could', 'burger', 'chees', 'made', 'big', 'valu', 'must', 'select', 'smoke', 'beauti', 'last', 'around', 'someth', 'varieti', 'money', 'feel', 'fri', 'beer', 'seafood', 'bit', 'insid', 'sure', 'worth', 'expens', 'disappoint', 'need', 'ate', 'famili', 'dessert','\\\"','”','“']"
   ]
  },
  {
   "cell_type": "markdown",
   "id": "e129a5c7",
   "metadata": {},
   "source": [
    "# Basic Visualizations"
   ]
  },
  {
   "cell_type": "markdown",
   "id": "71b8777b",
   "metadata": {},
   "source": [
    "## Number of Monthly Reviews"
   ]
  },
  {
   "cell_type": "code",
   "execution_count": 3,
   "id": "862ce8bd",
   "metadata": {},
   "outputs": [],
   "source": [
    "#Count the reviews of each month\n",
    "months =  reviews['Rating_Month'].value_counts()\n",
    "months_df = months.reset_index()\n",
    "df_mapping = pd.DataFrame({\n",
    "    'months': ['January', 'February', 'March', 'April', 'May', 'June', 'July', 'August', 'September', 'October', 'November', 'December'],\n",
    "})\n",
    "\n",
    "#Sort the results based on the specified order\n",
    "sort_mapping = df_mapping.reset_index().set_index('months')\n",
    "months_df['test'] = months_df['index'].map(sort_mapping['index'])\n",
    "months_df = months_df.sort_values('test')\n",
    "months_df.drop(columns = ['test'],inplace = True)\n",
    "months_df.reset_index(drop =True,inplace = True)\n",
    "months_df.set_index('index', inplace=True)"
   ]
  },
  {
   "cell_type": "code",
   "execution_count": 4,
   "id": "06aae115",
   "metadata": {},
   "outputs": [
    {
     "data": {
      "image/png": "[encoded data removed]",
      "text/plain": [
       "<Figure size 1440x864 with 1 Axes>"
      ]
     },
     "metadata": {
      "needs_background": "light"
     },
     "output_type": "display_data"
    }
   ],
   "source": [
    "#Create a barplot\n",
    "ax = sns.barplot(x = months_df.index, y = \"Rating_Month\", data = months_df)"
   ]
  },
  {
   "cell_type": "markdown",
   "id": "0176d095",
   "metadata": {},
   "source": [
    "## Most Common Words, Bi-grams, Tri-grams"
   ]
  },
  {
   "cell_type": "code",
   "execution_count": 6,
   "id": "a1adcd13",
   "metadata": {},
   "outputs": [],
   "source": [
    "from wordcloud import WordCloud"
   ]
  },
  {
   "cell_type": "code",
   "execution_count": 7,
   "id": "1e4b2a70",
   "metadata": {},
   "outputs": [],
   "source": [
    "#Unify all the words used in reviews (unigrams) as well as two and three words that occur successively along with their\n",
    "#frequencies in dictionaries\n",
    "temp_uni = []\n",
    "for i in range(len(reviews)):\n",
    "    temp_uni += reviews['Review'][i]\n",
    "from nltk import ngrams, FreqDist\n",
    "all_counts = dict()\n",
    "for size in 1, 2, 3:\n",
    "    all_counts[size] = FreqDist(ngrams(temp_uni, size))"
   ]
  },
  {
   "cell_type": "code",
   "execution_count": null,
   "id": "48bb3141",
   "metadata": {},
   "outputs": [],
   "source": [
    "#create a dataframe which stores the words and their frequencies\n",
    "unigrams = pd.DataFrame(all_counts[1].items(), columns = ['word', 'frequency'])\n",
    "#sort words based on their frequencies\n",
    "unigrams.sort_values(by = ['frequency'],ascending = False)\n",
    "unigrams['word'] = unigrams['word'].apply(lambda x:'_'.join([i for i in x if i not in string.punctuation]))\n",
    "tuples = [tuple(x) for x in unigrams.values]\n",
    "\n",
    "#generate word cloud\n",
    "wordcloud = WordCloud().generate_from_frequencies(dict(tuples))\n",
    "plt.figure()\n",
    "plt.imshow(wordcloud, interpolation=\"bilinear\")\n",
    "plt.axis(\"off\")\n",
    "plt.show()"
   ]
  },
  {
   "cell_type": "code",
   "execution_count": null,
   "id": "ff22ff1b",
   "metadata": {},
   "outputs": [],
   "source": [
    "#create a dataframe which stores the bigrams and their frequencies\n",
    "bigrams = pd.DataFrame(all_counts[2].items(), columns=['word', 'frequency'])\n",
    "bigrams.sort_values(by = ['frequency'],ascending=False)\n",
    "bigrams['word'] = bigrams['word'].apply(lambda x:'_'.join([i for i in x if i not in string.punctuation]))\n",
    "tuples = [tuple(x) for x in bigrams.values]\n",
    "\n",
    "#generate word cloud\n",
    "wordcloud = WordCloud().generate_from_frequencies(dict(tuples))\n",
    "plt.figure()\n",
    "plt.imshow(wordcloud, interpolation=\"bilinear\")\n",
    "plt.axis(\"off\")\n",
    "plt.show()"
   ]
  },
  {
   "cell_type": "code",
   "execution_count": null,
   "id": "c75f3628",
   "metadata": {},
   "outputs": [],
   "source": [
    "#create a dataframe which stores the trigrams and their frequencies\n",
    "trigrams = pd.DataFrame(all_counts[3].items(), columns=['word', 'frequency'])\n",
    "trigrams.sort_values(by = ['frequency'],ascending=False)\n",
    "trigrams['word'] = trigrams['word'].apply(lambda x:'_'.join([i for i in x if i not in string.punctuation]))\n",
    "tuples = [tuple(x) for x in trigrams.values]\n",
    "\n",
    "wordcloud = WordCloud().generate_from_frequencies(dict(tuples))\n",
    "plt.figure()\n",
    "plt.imshow(wordcloud, interpolation=\"bilinear\")\n",
    "plt.axis(\"off\")\n",
    "plt.show()"
   ]
  },
  {
   "cell_type": "code",
   "execution_count": null,
   "id": "61260507",
   "metadata": {},
   "outputs": [],
   "source": [
    "#Create a dataframe that contains reviews with score equals to 50\n",
    "five_star_reviews = reviews.loc[reviews['Score'] == 50]\n",
    "\n",
    "#Create a dataframe that contains reviews with score equals to 10\n",
    "one_star_reviews = reviews.loc[reviews['Score'] == 10]\n",
    "\n",
    "#Reset index\n",
    "five_star_reviews.reset_index(drop = True, inplace = True)\n",
    "one_star_reviews.reset_index(drop = True, inplace = True)"
   ]
  },
  {
   "cell_type": "markdown",
   "id": "614feb1c",
   "metadata": {},
   "source": [
    "## One-star Reviews"
   ]
  },
  {
   "cell_type": "code",
   "execution_count": null,
   "id": "4fdf2f3f",
   "metadata": {},
   "outputs": [],
   "source": [
    "#Store unigrams, bigrams, trigrams and their frequencies in a dictionary\n",
    "temp_uni = []\n",
    "for i in range(len(one_star_reviews)):\n",
    "    temp_uni += one_star_reviews['Review'][i]\n",
    "from nltk import ngrams, FreqDist\n",
    "all_counts = dict()\n",
    "for size in 1, 2, 3:\n",
    "    all_counts[size] = FreqDist(ngrams(temp_uni, size))"
   ]
  },
  {
   "cell_type": "code",
   "execution_count": null,
   "id": "b715516a",
   "metadata": {},
   "outputs": [],
   "source": [
    "#create a dataframe which stores the unigrams and their frequencies\n",
    "unigrams = pd.DataFrame(all_counts[1].items(), columns=['word', 'frequency'])\n",
    "unigrams.sort_values(by = ['frequency'],ascending=False)\n",
    "unigrams['word'] = unigrams['word'].apply(lambda x:'_'.join([i for i in x if i not in string.punctuation]))\n",
    "tuples = [tuple(x) for x in unigrams.values]\n",
    "\n",
    "#generate word cloud\n",
    "wordcloud = WordCloud().generate_from_frequencies(dict(tuples))\n",
    "plt.figure()\n",
    "plt.imshow(wordcloud, interpolation=\"bilinear\")\n",
    "plt.axis(\"off\")\n",
    "plt.show()\n",
    "\n",
    "#create a dataframe which stores the bigrams and their frequencies\n",
    "bigrams = pd.DataFrame(all_counts[2].items(), columns=['word', 'frequency'])\n",
    "bigrams.sort_values(by = ['frequency'],ascending=False)\n",
    "bigrams['word'] = bigrams['word'].apply(lambda x:'_'.join([i for i in x if i not in string.punctuation]))\n",
    "tuples = [tuple(x) for x in bigrams.values]\n",
    "\n",
    "#generate word cloud\n",
    "wordcloud = WordCloud().generate_from_frequencies(dict(tuples))\n",
    "plt.figure()\n",
    "plt.imshow(wordcloud, interpolation=\"bilinear\")\n",
    "plt.axis(\"off\")\n",
    "plt.show()\n",
    "\n",
    "#create a dataframe which stores the trigrams and their frequencies\n",
    "trigrams = pd.DataFrame(all_counts[3].items(), columns=['word', 'frequency'])\n",
    "trigrams.sort_values(by = ['frequency'],ascending=False)\n",
    "trigrams['word'] = trigrams['word'].apply(lambda x:'_'.join([i for i in x if i not in string.punctuation]))\n",
    "tuples = [tuple(x) for x in trigrams.values]\n",
    "\n",
    "#generate word cloud\n",
    "wordcloud = WordCloud().generate_from_frequencies(dict(tuples))\n",
    "plt.figure()\n",
    "plt.imshow(wordcloud, interpolation=\"bilinear\")\n",
    "plt.axis(\"off\")\n",
    "plt.show()"
   ]
  },
  {
   "cell_type": "markdown",
   "id": "c859ebbf",
   "metadata": {},
   "source": [
    "## Five-star Reviews"
   ]
  },
  {
   "cell_type": "code",
   "execution_count": null,
   "id": "9b021bcc",
   "metadata": {},
   "outputs": [],
   "source": [
    "#Store unigrams, bigrams, trigrams and their frequencies in a dictionary\n",
    "temp_uni = []\n",
    "for i in range(len(five_star_reviews)):\n",
    "    temp_uni += five_star_reviews['Review'][i]\n",
    "from nltk import ngrams, FreqDist\n",
    "all_counts = dict()\n",
    "for size in 1, 2, 3:\n",
    "    all_counts[size] = FreqDist(ngrams(temp_uni, size))"
   ]
  },
  {
   "cell_type": "code",
   "execution_count": null,
   "id": "d132ac59",
   "metadata": {},
   "outputs": [],
   "source": [
    "#create a dataframe which stores the unigrams and their frequencies\n",
    "unigrams = pd.DataFrame(all_counts[1].items(), columns=['word', 'frequency'])\n",
    "unigrams.sort_values(by = ['frequency'],ascending=False)\n",
    "unigrams['word'] = unigrams['word'].apply(lambda x:'_'.join([i for i in x if i not in string.punctuation]))\n",
    "tuples = [tuple(x) for x in unigrams.values]\n",
    "\n",
    "#generate word cloud\n",
    "wordcloud = WordCloud().generate_from_frequencies(dict(tuples))\n",
    "plt.figure()\n",
    "plt.imshow(wordcloud, interpolation=\"bilinear\")\n",
    "plt.axis(\"off\")\n",
    "plt.show()\n",
    "\n",
    "#create a dataframe which stores the bigrams and their frequencies\n",
    "bigrams = pd.DataFrame(all_counts[2].items(), columns=['word', 'frequency'])\n",
    "bigrams.sort_values(by = ['frequency'],ascending=False)\n",
    "bigrams['word'] = bigrams['word'].apply(lambda x:'_'.join([i for i in x if i not in string.punctuation]))\n",
    "tuples = [tuple(x) for x in bigrams.values]\n",
    "\n",
    "#generate word cloud\n",
    "wordcloud = WordCloud().generate_from_frequencies(dict(tuples))\n",
    "plt.figure()\n",
    "plt.imshow(wordcloud, interpolation=\"bilinear\")\n",
    "plt.axis(\"off\")\n",
    "plt.show()\n",
    "\n",
    "#create a dataframe which stores the trigrams and their frequencies\n",
    "trigrams = pd.DataFrame(all_counts[3].items(), columns=['word', 'frequency'])\n",
    "trigrams.sort_values(by = ['frequency'],ascending=False)\n",
    "trigrams['word'] = trigrams['word'].apply(lambda x:'_'.join([i for i in x if i not in string.punctuation]))\n",
    "tuples = [tuple(x) for x in trigrams.values]\n",
    "\n",
    "#generate word cloud\n",
    "wordcloud = WordCloud().generate_from_frequencies(dict(tuples))\n",
    "plt.figure()\n",
    "plt.imshow(wordcloud, interpolation=\"bilinear\")\n",
    "plt.axis(\"off\")\n",
    "plt.show()"
   ]
  },
  {
   "cell_type": "code",
   "execution_count": null,
   "id": "80b64497",
   "metadata": {},
   "outputs": [],
   "source": []
  }
 ],
 "metadata": {
  "kernelspec": {
   "display_name": "Python 3 (ipykernel)",
   "language": "python",
   "name": "python3"
  },
  "language_info": {
   "codemirror_mode": {
    "name": "ipython",
    "version": 3
   },
   "file_extension": ".py",
   "mimetype": "text/x-python",
   "name": "python",
   "nbconvert_exporter": "python",
   "pygments_lexer": "ipython3",
   "version": "3.9.7"
  }
 },
 "nbformat": 4,
 "nbformat_minor": 5
}
